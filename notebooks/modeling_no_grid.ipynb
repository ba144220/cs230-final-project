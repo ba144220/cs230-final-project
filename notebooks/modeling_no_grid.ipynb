{
 "cells": [
  {
   "cell_type": "code",
   "execution_count": 1,
   "metadata": {},
   "outputs": [],
   "source": [
    "from transformers import LlamaForCausalLM, BitsAndBytesConfig, AutoTokenizer\n",
    "\n",
    "# quantization config\n",
    "quantization_config = BitsAndBytesConfig(\n",
    "    load_in_8bit=True,\n",
    ")\n",
    "\n",
    "MODEL_NAME = \"meta-llama/Llama-3.2-1B-Instruct\"\n",
    "\n",
    "llama_model = LlamaForCausalLM.from_pretrained(MODEL_NAME, quantization_config=quantization_config, device_map=\"auto\")"
   ]
  },
  {
   "cell_type": "code",
   "execution_count": 2,
   "metadata": {},
   "outputs": [],
   "source": [
    "import sys\n",
    "sys.path.append(\"../src\")\n",
    "from models.modeling_no_grid import LlamaNoGridForCausalLM\n",
    "import torch"
   ]
  },
  {
   "cell_type": "code",
   "execution_count": 3,
   "metadata": {},
   "outputs": [
    {
     "name": "stderr",
     "output_type": "stream",
     "text": [
      "`LlamaRotaryEmbedding` can now be fully parameterized by passing the model config through the `config` argument. All other arguments will be removed in v4.46\n"
     ]
    },
    {
     "ename": "TypeError",
     "evalue": "arange() received an invalid combination of arguments - got (int, NoneType, int, dtype=torch.dtype), but expected one of:\n * (Number end, *, Tensor out, torch.dtype dtype, torch.layout layout, torch.device device, bool pin_memory, bool requires_grad)\n * (Number start, Number end, *, torch.dtype dtype, torch.layout layout, torch.device device, bool pin_memory, bool requires_grad)\n * (Number start, Number end, Number step, *, Tensor out, torch.dtype dtype, torch.layout layout, torch.device device, bool pin_memory, bool requires_grad)\n",
     "output_type": "error",
     "traceback": [
      "\u001b[0;31m---------------------------------------------------------------------------\u001b[0m",
      "\u001b[0;31mTypeError\u001b[0m                                 Traceback (most recent call last)",
      "Cell \u001b[0;32mIn[3], line 6\u001b[0m\n\u001b[1;32m      3\u001b[0m     \u001b[38;5;28;01mdel\u001b[39;00m no_grid_model\n\u001b[1;32m      4\u001b[0m     torch\u001b[38;5;241m.\u001b[39mcuda\u001b[38;5;241m.\u001b[39mempty_cache()\n\u001b[0;32m----> 6\u001b[0m no_grid_model \u001b[38;5;241m=\u001b[39m LlamaNoGridForCausalLM\u001b[38;5;241m.\u001b[39mfrom_pretrained(MODEL_NAME, quantization_config\u001b[38;5;241m=\u001b[39mquantization_config, device_map\u001b[38;5;241m=\u001b[39m\u001b[38;5;124m\"\u001b[39m\u001b[38;5;124mauto\u001b[39m\u001b[38;5;124m\"\u001b[39m)\n\u001b[1;32m      7\u001b[0m tokenizer \u001b[38;5;241m=\u001b[39m AutoTokenizer\u001b[38;5;241m.\u001b[39mfrom_pretrained(MODEL_NAME)\n",
      "File \u001b[0;32m~/mambaforge/envs/cs230/lib/python3.11/site-packages/transformers/modeling_utils.py:4097\u001b[0m, in \u001b[0;36mPreTrainedModel.from_pretrained\u001b[0;34m(cls, pretrained_model_name_or_path, config, cache_dir, ignore_mismatched_sizes, force_download, local_files_only, token, revision, use_safetensors, weights_only, *model_args, **kwargs)\u001b[0m\n\u001b[1;32m   4091\u001b[0m     config \u001b[38;5;241m=\u001b[39m \u001b[38;5;28mcls\u001b[39m\u001b[38;5;241m.\u001b[39m_autoset_attn_implementation(\n\u001b[1;32m   4092\u001b[0m         config, use_flash_attention_2\u001b[38;5;241m=\u001b[39muse_flash_attention_2, torch_dtype\u001b[38;5;241m=\u001b[39mtorch_dtype, device_map\u001b[38;5;241m=\u001b[39mdevice_map\n\u001b[1;32m   4093\u001b[0m     )\n\u001b[1;32m   4095\u001b[0m \u001b[38;5;28;01mwith\u001b[39;00m ContextManagers(init_contexts):\n\u001b[1;32m   4096\u001b[0m     \u001b[38;5;66;03m# Let's make sure we don't run the init function of buffer modules\u001b[39;00m\n\u001b[0;32m-> 4097\u001b[0m     model \u001b[38;5;241m=\u001b[39m \u001b[38;5;28mcls\u001b[39m(config, \u001b[38;5;241m*\u001b[39mmodel_args, \u001b[38;5;241m*\u001b[39m\u001b[38;5;241m*\u001b[39mmodel_kwargs)\n\u001b[1;32m   4099\u001b[0m \u001b[38;5;66;03m# make sure we use the model's config since the __init__ call might have copied it\u001b[39;00m\n\u001b[1;32m   4100\u001b[0m config \u001b[38;5;241m=\u001b[39m model\u001b[38;5;241m.\u001b[39mconfig\n",
      "File \u001b[0;32m/work/yuchi/stanford/2024-fall/cs230/cs230-final-project/experiments/../src/models/modeling_no_grid.py:73\u001b[0m, in \u001b[0;36mLlamaNoGridForCausalLM.__init__\u001b[0;34m(self, config)\u001b[0m\n\u001b[1;32m     71\u001b[0m \u001b[38;5;28;01mdef\u001b[39;00m \u001b[38;5;21m__init__\u001b[39m(\u001b[38;5;28mself\u001b[39m, config: TableLlamaConfig):\n\u001b[1;32m     72\u001b[0m     \u001b[38;5;28msuper\u001b[39m()\u001b[38;5;241m.\u001b[39m\u001b[38;5;21m__init__\u001b[39m(config)\n\u001b[0;32m---> 73\u001b[0m     \u001b[38;5;28mself\u001b[39m\u001b[38;5;241m.\u001b[39mmodel \u001b[38;5;241m=\u001b[39m LlamaNoGridModel(\u001b[38;5;28mself\u001b[39m\u001b[38;5;241m.\u001b[39mconfig)\n\u001b[1;32m     75\u001b[0m     \u001b[38;5;66;03m# Get replace rules\u001b[39;00m\n\u001b[1;32m     76\u001b[0m     rope_table_llama \u001b[38;5;241m=\u001b[39m \u001b[38;5;28mgetattr\u001b[39m(config, \u001b[38;5;124m\"\u001b[39m\u001b[38;5;124mrope_table_llama\u001b[39m\u001b[38;5;124m\"\u001b[39m)\n",
      "File \u001b[0;32m/work/yuchi/stanford/2024-fall/cs230/cs230-final-project/experiments/../src/models/modeling_no_grid.py:67\u001b[0m, in \u001b[0;36mLlamaNoGridModel.__init__\u001b[0;34m(self, config)\u001b[0m\n\u001b[1;32m     65\u001b[0m \u001b[38;5;28;01mdef\u001b[39;00m \u001b[38;5;21m__init__\u001b[39m(\u001b[38;5;28mself\u001b[39m, config: TableLlamaConfig):\n\u001b[1;32m     66\u001b[0m     \u001b[38;5;28msuper\u001b[39m()\u001b[38;5;241m.\u001b[39m\u001b[38;5;21m__init__\u001b[39m(config)\n\u001b[0;32m---> 67\u001b[0m     \u001b[38;5;28mself\u001b[39m\u001b[38;5;241m.\u001b[39mrotary_emb \u001b[38;5;241m=\u001b[39m LlamaNoGridRotaryEmbedding(config\u001b[38;5;241m=\u001b[39mconfig)\n",
      "File \u001b[0;32m/work/yuchi/stanford/2024-fall/cs230/cs230-final-project/experiments/../src/models/modeling_no_grid.py:20\u001b[0m, in \u001b[0;36mLlamaNoGridRotaryEmbedding.__init__\u001b[0;34m(self, dim, max_position_embeddings, base, device, scaling_factor, rope_type, config)\u001b[0m\n\u001b[1;32m     10\u001b[0m \u001b[38;5;28;01mdef\u001b[39;00m \u001b[38;5;21m__init__\u001b[39m(\n\u001b[1;32m     11\u001b[0m     \u001b[38;5;28mself\u001b[39m,\n\u001b[1;32m     12\u001b[0m     dim\u001b[38;5;241m=\u001b[39m\u001b[38;5;28;01mNone\u001b[39;00m,\n\u001b[0;32m   (...)\u001b[0m\n\u001b[1;32m     18\u001b[0m     config: Optional[TableLlamaConfig] \u001b[38;5;241m=\u001b[39m \u001b[38;5;28;01mNone\u001b[39;00m,\n\u001b[1;32m     19\u001b[0m ):\n\u001b[0;32m---> 20\u001b[0m     \u001b[38;5;28msuper\u001b[39m()\u001b[38;5;241m.\u001b[39m\u001b[38;5;21m__init__\u001b[39m()\n\u001b[1;32m     22\u001b[0m     \u001b[38;5;28mself\u001b[39m\u001b[38;5;241m.\u001b[39mconfig \u001b[38;5;241m=\u001b[39m config\n\u001b[1;32m     23\u001b[0m     \u001b[38;5;28mself\u001b[39m\u001b[38;5;241m.\u001b[39mrope_type \u001b[38;5;241m=\u001b[39m \u001b[38;5;28mgetattr\u001b[39m(config\u001b[38;5;241m.\u001b[39mrope_scaling, \u001b[38;5;124m\"\u001b[39m\u001b[38;5;124mrope_type\u001b[39m\u001b[38;5;124m\"\u001b[39m, \u001b[38;5;124m\"\u001b[39m\u001b[38;5;124mllama3\u001b[39m\u001b[38;5;124m\"\u001b[39m)\n",
      "File \u001b[0;32m~/mambaforge/envs/cs230/lib/python3.11/site-packages/transformers/models/llama/modeling_llama.py:124\u001b[0m, in \u001b[0;36mLlamaRotaryEmbedding.__init__\u001b[0;34m(self, dim, max_position_embeddings, base, device, scaling_factor, rope_type, config)\u001b[0m\n\u001b[1;32m    121\u001b[0m \u001b[38;5;28mself\u001b[39m\u001b[38;5;241m.\u001b[39mconfig \u001b[38;5;241m=\u001b[39m config\n\u001b[1;32m    122\u001b[0m \u001b[38;5;28mself\u001b[39m\u001b[38;5;241m.\u001b[39mrope_init_fn \u001b[38;5;241m=\u001b[39m ROPE_INIT_FUNCTIONS[\u001b[38;5;28mself\u001b[39m\u001b[38;5;241m.\u001b[39mrope_type]\n\u001b[0;32m--> 124\u001b[0m inv_freq, \u001b[38;5;28mself\u001b[39m\u001b[38;5;241m.\u001b[39mattention_scaling \u001b[38;5;241m=\u001b[39m \u001b[38;5;28mself\u001b[39m\u001b[38;5;241m.\u001b[39mrope_init_fn(\u001b[38;5;28mself\u001b[39m\u001b[38;5;241m.\u001b[39mconfig, device, \u001b[38;5;241m*\u001b[39m\u001b[38;5;241m*\u001b[39m\u001b[38;5;28mself\u001b[39m\u001b[38;5;241m.\u001b[39mrope_kwargs)\n\u001b[1;32m    125\u001b[0m \u001b[38;5;28mself\u001b[39m\u001b[38;5;241m.\u001b[39mregister_buffer(\u001b[38;5;124m\"\u001b[39m\u001b[38;5;124minv_freq\u001b[39m\u001b[38;5;124m\"\u001b[39m, inv_freq, persistent\u001b[38;5;241m=\u001b[39m\u001b[38;5;28;01mFalse\u001b[39;00m)\n\u001b[1;32m    126\u001b[0m \u001b[38;5;28mself\u001b[39m\u001b[38;5;241m.\u001b[39moriginal_inv_freq \u001b[38;5;241m=\u001b[39m \u001b[38;5;28mself\u001b[39m\u001b[38;5;241m.\u001b[39minv_freq\n",
      "File \u001b[0;32m~/mambaforge/envs/cs230/lib/python3.11/site-packages/transformers/modeling_rope_utils.py:67\u001b[0m, in \u001b[0;36m_compute_default_rope_parameters\u001b[0;34m(config, device, seq_len, **rope_kwargs)\u001b[0m\n\u001b[1;32m     64\u001b[0m attention_factor \u001b[38;5;241m=\u001b[39m \u001b[38;5;241m1.0\u001b[39m  \u001b[38;5;66;03m# Unused in this type of RoPE\u001b[39;00m\n\u001b[1;32m     66\u001b[0m \u001b[38;5;66;03m# Compute the inverse frequencies\u001b[39;00m\n\u001b[0;32m---> 67\u001b[0m inv_freq \u001b[38;5;241m=\u001b[39m \u001b[38;5;241m1.0\u001b[39m \u001b[38;5;241m/\u001b[39m (base \u001b[38;5;241m*\u001b[39m\u001b[38;5;241m*\u001b[39m (torch\u001b[38;5;241m.\u001b[39marange(\u001b[38;5;241m0\u001b[39m, dim, \u001b[38;5;241m2\u001b[39m, dtype\u001b[38;5;241m=\u001b[39mtorch\u001b[38;5;241m.\u001b[39mint64)\u001b[38;5;241m.\u001b[39mfloat()\u001b[38;5;241m.\u001b[39mto(device) \u001b[38;5;241m/\u001b[39m dim))\n\u001b[1;32m     68\u001b[0m \u001b[38;5;28;01mreturn\u001b[39;00m inv_freq, attention_factor\n",
      "\u001b[0;31mTypeError\u001b[0m: arange() received an invalid combination of arguments - got (int, NoneType, int, dtype=torch.dtype), but expected one of:\n * (Number end, *, Tensor out, torch.dtype dtype, torch.layout layout, torch.device device, bool pin_memory, bool requires_grad)\n * (Number start, Number end, *, torch.dtype dtype, torch.layout layout, torch.device device, bool pin_memory, bool requires_grad)\n * (Number start, Number end, Number step, *, Tensor out, torch.dtype dtype, torch.layout layout, torch.device device, bool pin_memory, bool requires_grad)\n"
     ]
    }
   ],
   "source": [
    "import torch\n",
    "if \"no_grid_model\" in globals():\n",
    "    del no_grid_model\n",
    "    torch.cuda.empty_cache()\n",
    "\n",
    "no_grid_model = LlamaNoGridForCausalLM.from_pretrained(MODEL_NAME, quantization_config=quantization_config, device_map=\"auto\")\n",
    "tokenizer = AutoTokenizer.from_pretrained(MODEL_NAME)"
   ]
  },
  {
   "cell_type": "code",
   "execution_count": null,
   "metadata": {},
   "outputs": [],
   "source": [
    "message = [\n",
    "    {\"role\": \"user\", \"content\": \"Hello, how are you?\"}\n",
    "]\n",
    "\n",
    "message_text = tokenizer.apply_chat_template(message, tokenize=False, add_generation_prompt=True)\n",
    "inputs = tokenizer(message_text, return_tensors=\"pt\").to(no_grid_model.device)\n",
    "\n",
    "print(inputs)"
   ]
  },
  {
   "cell_type": "code",
   "execution_count": null,
   "metadata": {},
   "outputs": [],
   "source": [
    "\n",
    "outputs = no_grid_model.generate(**inputs, max_new_tokens=10)\n",
    "print(tokenizer.decode(outputs[0], skip_special_tokens=True))\n",
    "\n"
   ]
  },
  {
   "cell_type": "code",
   "execution_count": null,
   "metadata": {},
   "outputs": [],
   "source": [
    "def test_no_grid(user_message):\n",
    "    message = [\n",
    "        {\"role\": \"system\", \"content\": \"You are a helpful assistant.\"},\n",
    "        {\"role\": \"user\", \"content\": user_message}\n",
    "    ]\n",
    "    # Tokenize the message\n",
    "    message_text = tokenizer.apply_chat_template(message, tokenize=False, add_generation_prompt=True)\n",
    "    inputs = tokenizer(message_text, return_tensors=\"pt\").to(llama_model.device)\n",
    "    # Generate the response with llama3.2\n",
    "    llama_outputs = llama_model.generate(**inputs, max_new_tokens=64, do_sample=False)\n",
    "    llama_response = tokenizer.decode(llama_outputs[0], skip_special_tokens=True)\n",
    "    no_grid_outputs = no_grid_model.generate(**inputs, max_new_tokens=64, do_sample=False)\n",
    "    no_grid_response = tokenizer.decode(no_grid_outputs[0], skip_special_tokens=True)\n",
    "    return llama_response, no_grid_response\n",
    "    \n",
    "user_messages = [\n",
    "    \"What is the capital of France?\",\n",
    "    \"Why is the sky blue?\",\n",
    "    \"What is the weather in San Francisco?\",\n",
    "    \"Why Stanford University is better than UC Berkeley?\",\n",
    "]\n",
    "\n",
    "for user_message in user_messages:\n",
    "    llama_response, no_grid_response = test_no_grid(user_message)\n",
    "    print(\"-\" * 100)\n",
    "    print(f\"User message: {user_message}\")\n",
    "    print(f\"Llama response: {llama_response}\")\n",
    "    print(f\"No grid response: {no_grid_response}\")"
   ]
  },
  {
   "cell_type": "code",
   "execution_count": null,
   "metadata": {},
   "outputs": [],
   "source": [
    "# Replacement test\n",
    "import torch\n",
    "batch_size = 4\n",
    "input_len = 20\n",
    "head_dim = 64\n",
    "\n",
    "position_ids = torch.arange(0, input_len)[None, None, :].repeat(batch_size, head_dim//2, 1)\n",
    "print(position_ids.shape)\n",
    "print(position_ids)\n",
    "column_ids = torch.randint(80, 100, (batch_size, input_len))\n",
    "print(column_ids)\n",
    "\n",
    "x_start = 0\n",
    "x_end = head_dim//2\n",
    "x_step = 2\n",
    "\n",
    "position_ids[range(batch_size), x_start:x_end:x_step, :] = column_ids\n",
    "print(position_ids)\n",
    "\n"
   ]
  },
  {
   "cell_type": "code",
   "execution_count": null,
   "metadata": {},
   "outputs": [],
   "source": []
  }
 ],
 "metadata": {
  "kernelspec": {
   "display_name": "cs230",
   "language": "python",
   "name": "python3"
  },
  "language_info": {
   "codemirror_mode": {
    "name": "ipython",
    "version": 3
   },
   "file_extension": ".py",
   "mimetype": "text/x-python",
   "name": "python",
   "nbconvert_exporter": "python",
   "pygments_lexer": "ipython3",
   "version": "3.11.10"
  }
 },
 "nbformat": 4,
 "nbformat_minor": 2
}
