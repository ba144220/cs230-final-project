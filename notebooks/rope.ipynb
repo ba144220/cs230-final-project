{
 "cells": [
  {
   "cell_type": "code",
   "execution_count": 5,
   "metadata": {},
   "outputs": [],
   "source": [
    "import matplotlib.pyplot as plt\n",
    "import numpy as np\n",
    "import math\n",
    "import pandas as pd\n",
    "import seaborn as sns\n",
    "import torch\n"
   ]
  },
  {
   "cell_type": "code",
   "execution_count": 46,
   "metadata": {},
   "outputs": [],
   "source": [
    "# Calculate the cosine similarity\n",
    "# X = batch_size, seq_len, heads, head_dim\n",
    "def cosine_similarity(X1, X2, dim=1):\n",
    "    print(X1.shape)\n",
    "    print(X2.shape)\n",
    "    # we want to compare the locations of the rotated results\n",
    "    tensor1 = torch.from_numpy(X1)\n",
    "    tensor2 = torch.from_numpy(X2)\n",
    "    return torch.nn.functional.cosine_similarity(tensor1, tensor2, dim=(1,2,4))\n",
    "\n",
    "# Plot similarity\n",
    "def plot_similarity_matrix(similarity_matrix):\n",
    "    plt.figure(figsize=(8, 6))\n",
    "    plt.imshow(similarity_matrix, cmap='viridis', origin='lower')\n",
    "    plt.colorbar(label='Similarity')\n",
    "    plt.title('Cosine Similarity Matrix')\n",
    "    plt.show()\n",
    "\n",
    "def plot_spatial_similarity(m, w, h, similarity_matrix, line_length):\n",
    "    plt.figure(figsize=(8, 6))\n",
    "\n",
    "    map = np.zeros((h,w))\n",
    "    center = m + w//2 + h//2*line_length\n",
    "    for j in range(h):\n",
    "        for i in range(w):\n",
    "            realpos = m + j*line_length + i\n",
    "            val = similarity_matrix[center,realpos]\n",
    "            map[h-j-1,i] = val\n",
    "            plt.text(i, h-j-1, f'{val:.2f}', ha='center', va='center', color=\"black\")\n",
    "\n",
    "    # Set the range from 0 to 1\n",
    "    plt.imshow(map, cmap='viridis', origin='lower', vmax=1, vmin=0)\n",
    "    # Set x ticks and y ticks\n",
    "    plt.xticks(np.arange(0, w, 1), np.arange(0, w, 1)-w//2)\n",
    "    plt.yticks(np.arange(0, h, 1), np.arange(h, 0, -1)-h//2-1)\n",
    "    plt.colorbar(label='Similarity')\n",
    "    plt.show()\n"
   ]
  },
  {
   "cell_type": "code",
   "execution_count": 11,
   "metadata": {},
   "outputs": [],
   "source": [
    "def plot_attention_maps(input_data, attn_maps, idx=0):\n",
    "    if input_data is not None:\n",
    "        input_data = input_data[idx].detach().cpu().numpy()\n",
    "    else:\n",
    "        input_data = np.arange(attn_maps[0][idx].shape[-1])\n",
    "    attn_maps = [m[idx].detach().cpu().numpy() for m in attn_maps]\n",
    "\n",
    "    num_heads = attn_maps[0].shape[0]\n",
    "    num_layers = len(attn_maps)\n",
    "    seq_len = input_data.shape[0]\n",
    "    fig_size = 4 if num_heads == 1 else 3\n",
    "    fig, ax = plt.subplots(num_layers, num_heads, figsize=(num_heads*fig_size, num_layers*fig_size))\n",
    "    if num_layers == 1:\n",
    "        ax = [ax]\n",
    "    if num_heads == 1:\n",
    "        ax = [[a] for a in ax]\n",
    "    for row in range(num_layers):\n",
    "        for column in range(num_heads):\n",
    "            ax[row][column].imshow(attn_maps[row][column], origin='lower', vmin=0)\n",
    "            ax[row][column].set_xticks(list(range(seq_len)))\n",
    "            ax[row][column].set_xticklabels(input_data.tolist())\n",
    "            ax[row][column].set_yticks(list(range(seq_len)))\n",
    "            ax[row][column].set_yticklabels(input_data.tolist())\n",
    "            ax[row][column].set_title(f\"Layer {row+1}, Head {column+1}\")\n",
    "    fig.subplots_adjust(hspace=0.5)\n",
    "    plt.show()\n"
   ]
  },
  {
   "cell_type": "code",
   "execution_count": null,
   "metadata": {},
   "outputs": [],
   "source": [
    "# X_rope_before = np.load('./custom-llama/key_states.npy')\n",
    "X_rope = np.load('./custom-llama/key_states_rope_applied.npy')\n",
    "\n",
    "# print(X_rope)\n",
    "similarity_matrix_rope = cosine_similarity(X_rope, X_rope)\n",
    "print(similarity_matrix_rope.shape)\n",
    "print(similarity_matrix_rope)\n",
    "# sns.heatmap(similarity_matrix_rope, annot=True, cmap=\"YlGnBu\")\n",
    "# plt.title(\"Similarity Matrix\")\n",
    "# plt.show()\n",
    "#plot_similarity_matrix(similarity_matrix_rope)\n",
    "#plot_spatial_similarity(3, 11, 11, similarity_matrix_rope, LINE_LENGTH)"
   ]
  }
 ],
 "metadata": {
  "kernelspec": {
   "display_name": "cs230",
   "language": "python",
   "name": "cs230"
  },
  "language_info": {
   "codemirror_mode": {
    "name": "ipython",
    "version": 3
   },
   "file_extension": ".py",
   "mimetype": "text/x-python",
   "name": "python",
   "nbconvert_exporter": "python",
   "pygments_lexer": "ipython3",
   "version": "3.11.10"
  }
 },
 "nbformat": 4,
 "nbformat_minor": 2
}
