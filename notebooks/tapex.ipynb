{
 "cells": [
  {
   "cell_type": "code",
   "execution_count": 15,
   "id": "0ad51f09-1777-418f-8b50-18a0873d4004",
   "metadata": {},
   "outputs": [],
   "source": [
    "from transformers import (\n",
    "    AutoTokenizer, \n",
    "    AutoModelForSeq2SeqLM,\n",
    "    HfArgumentParser,\n",
    "    TapexTokenizer, BartForConditionalGeneration\n",
    ")\n",
    "import os\n",
    "import sys\n",
    "import pandas as pd\n",
    "from io import StringIO\n",
    "\n",
    "src_path = os.path.abspath(os.path.join(os.path.dirname(\"__file__\"), \"../src\"))\n",
    "datasets_path = os.path.abspath(os.path.join(os.path.dirname(\"__file__\"), \"../datasets\"))\n",
    "\n",
    "if src_path not in sys.path:\n",
    "    sys.path.append(src_path)\n",
    "\n",
    "if datasets_path not in sys.path:\n",
    "    sys.path.append(datasets_path)\n",
    "\n",
    "from parsers.argument_classes import DatasetArguments\n",
    "from utils.datasets_loader import load_datasets"
   ]
  },
  {
   "cell_type": "code",
   "execution_count": 16,
   "id": "3c4e6744",
   "metadata": {},
   "outputs": [],
   "source": [
    "def _convert_csv_string_to_table(csv_string: str) -> pd.DataFrame:\n",
    "    \"\"\"\n",
    "    Convert a csv string to a table, including the header\n",
    "    \"\"\"\n",
    "    df = pd.read_csv(StringIO(csv_string), delimiter=\",\", on_bad_lines=\"skip\")\n",
    "    columns = df.columns.astype(str).tolist()\n",
    "    columns = [col.replace(\"Unnamed: 0\", \"\") for col in columns]\n",
    "    rows = df.values.astype(str).tolist()\n",
    "    return pd.DataFrame(rows, columns = columns)\n",
    "\n",
    "def main():\n",
    "    parser = HfArgumentParser(DatasetArguments)\n",
    "    dataset_args = parser.parse_dict({\n",
    "    \"dataset_root_dir\" : \"../datasets\",\n",
    "    \"train_max_samples_for_each_dataset\" : 10,\n",
    "    \"dataset_names\": [\"wtq\"],\n",
    "    })[0]\n",
    "    \n",
    "    # Load datasets\n",
    "    def filter_function(example):\n",
    "        if dataset_args.max_table_row_num is not None and example[\"table_row_num\"] > dataset_args.max_table_row_num:\n",
    "            return False\n",
    "        if dataset_args.max_table_width is not None and example[\"table_width\"] > dataset_args.max_table_width:\n",
    "            return False\n",
    "        return True\n",
    "    datasets = load_datasets(dataset_args, filter_function=filter_function)\n",
    "    # Tokenizer\n",
    "    tokenizer = AutoTokenizer.from_pretrained(\"microsoft/tapex-large-finetuned-wtq\")\n",
    "    \n",
    "    # Model\n",
    "    model = AutoModelForSeq2SeqLM.from_pretrained(\"microsoft/tapex-large-finetuned-wtq\")\n",
    "    question = datasets[\"test\"]['question'][0]\n",
    "    table = datasets[\"test\"][\"table\"][0]\n",
    "\n",
    "    df = _convert_csv_string_to_table(table)\n",
    "    encoding = tokenizer(df, question, padding='max_length', truncation=True, return_tensors=\"pt\")\n",
    "\n",
    "    outputs = model.generate(**encoding)\n",
    "    predicted_answer = tokenizer.batch_decode(outputs, skip_special_tokens=True)\n",
    "\n",
    "    print(\"Question:\", question)\n",
    "    print(\"Answer:\", predicted_answer)\n"
   ]
  },
  {
   "cell_type": "code",
   "execution_count": 17,
   "id": "4af61cf2",
   "metadata": {},
   "outputs": [
    {
     "name": "stderr",
     "output_type": "stream",
     "text": [
      "/Users/yejuahn/opt/anaconda3/envs/cs230/lib/python3.11/site-packages/transformers/tokenization_utils_base.py:1601: FutureWarning: `clean_up_tokenization_spaces` was not set. It will be set to `True` by default. This behavior will be depracted in transformers v4.45, and will be then set to `False` by default. For more details check this issue: https://github.com/huggingface/transformers/issues/31884\n",
      "  warnings.warn(\n"
     ]
    },
    {
     "name": "stdout",
     "output_type": "stream",
     "text": [
      "Question: did dmitry mikhailovich golitsyn or andrey kirillovich razumovsky serve as ambassador longer?\n",
      "Answer: [' dmitry mikhailovich golitsyn']\n"
     ]
    }
   ],
   "source": [
    "main()"
   ]
  }
 ],
 "metadata": {
  "kernelspec": {
   "display_name": "cs230",
   "language": "python",
   "name": "cs230"
  },
  "language_info": {
   "codemirror_mode": {
    "name": "ipython",
    "version": 3
   },
   "file_extension": ".py",
   "mimetype": "text/x-python",
   "name": "python",
   "nbconvert_exporter": "python",
   "pygments_lexer": "ipython3",
   "version": "3.11.10"
  }
 },
 "nbformat": 4,
 "nbformat_minor": 5
}
