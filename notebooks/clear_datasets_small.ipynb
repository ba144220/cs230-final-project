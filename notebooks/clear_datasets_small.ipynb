{
 "cells": [
  {
   "cell_type": "code",
   "execution_count": 1,
   "metadata": {},
   "outputs": [],
   "source": [
    "import sys\n",
    "sys.path.append(\"../src\")\n",
    "\n",
    "from utils.datasets_loader import load_datasets\n",
    "from parsers.argument_classes import DatasetArguments\n"
   ]
  },
  {
   "cell_type": "code",
   "execution_count": 2,
   "metadata": {},
   "outputs": [],
   "source": [
    "ROOT_DIR = \"../datasets_with_size\"\n",
    "DATASET_NAME = \"wtq\""
   ]
  },
  {
   "cell_type": "code",
   "execution_count": 3,
   "metadata": {},
   "outputs": [],
   "source": [
    "dataset_args = DatasetArguments(\n",
    "    dataset_root_dir=ROOT_DIR,\n",
    "    dataset_names=[DATASET_NAME],\n",
    "    table_extension=\"csv\",\n",
    "    shuffle=False,\n",
    ")"
   ]
  },
  {
   "cell_type": "code",
   "execution_count": null,
   "metadata": {},
   "outputs": [],
   "source": [
    "datasets = load_datasets(dataset_args)\n",
    "print(datasets)"
   ]
  },
  {
   "cell_type": "code",
   "execution_count": null,
   "metadata": {},
   "outputs": [],
   "source": [
    "print(datasets[\"train\"][\"id\"])"
   ]
  },
  {
   "cell_type": "code",
   "execution_count": 6,
   "metadata": {},
   "outputs": [],
   "source": [
    "from transformers import AutoTokenizer\n",
    "tokenizer = AutoTokenizer.from_pretrained(\"meta-llama/Llama-3.2-1B-Instruct\")"
   ]
  },
  {
   "cell_type": "code",
   "execution_count": null,
   "metadata": {},
   "outputs": [],
   "source": [
    "from utils.get_table_size import calculate_tokenized_table_size\n",
    "\n",
    "def dataset_map(example):\n",
    "    row_num, width = calculate_tokenized_table_size(example[\"table\"], tokenizer)\n",
    "    example[\"table_row_num\"] = row_num\n",
    "    example[\"table_width\"] = width\n",
    "    return example\n",
    "\n",
    "datasets[\"train\"] = datasets[\"train\"].map(dataset_map)"
   ]
  },
  {
   "cell_type": "code",
   "execution_count": null,
   "metadata": {},
   "outputs": [],
   "source": [
    "datasets[\"validation\"] = datasets[\"validation\"].map(dataset_map)\n",
    "datasets[\"test\"] = datasets[\"test\"].map(dataset_map)\n"
   ]
  },
  {
   "cell_type": "code",
   "execution_count": 9,
   "metadata": {},
   "outputs": [],
   "source": [
    "# remove table column\n",
    "datasets[\"train\"] = datasets[\"train\"].remove_columns(\"table\")\n",
    "datasets[\"validation\"] = datasets[\"validation\"].remove_columns(\"table\")\n",
    "datasets[\"test\"] = datasets[\"test\"].remove_columns(\"table\")\n"
   ]
  },
  {
   "cell_type": "code",
   "execution_count": null,
   "metadata": {},
   "outputs": [],
   "source": [
    "datasets"
   ]
  },
  {
   "cell_type": "code",
   "execution_count": null,
   "metadata": {},
   "outputs": [],
   "source": [
    "datasets[\"test\"][0]"
   ]
  },
  {
   "cell_type": "code",
   "execution_count": 12,
   "metadata": {},
   "outputs": [],
   "source": [
    "df_train = datasets[\"train\"].to_pandas()\n",
    "df_val = datasets[\"validation\"].to_pandas()\n",
    "df_test = datasets[\"test\"].to_pandas()\n",
    "\n",
    "df_train.to_csv(f\"{ROOT_DIR}/{DATASET_NAME}/data/train.csv\", index=False)\n",
    "df_val.to_csv(f\"{ROOT_DIR}/{DATASET_NAME}/data/val.csv\", index=False)\n",
    "df_test.to_csv(f\"{ROOT_DIR}/{DATASET_NAME}/data/test.csv\", index=False)"
   ]
  },
  {
   "cell_type": "code",
   "execution_count": null,
   "metadata": {},
   "outputs": [],
   "source": []
  }
 ],
 "metadata": {
  "kernelspec": {
   "display_name": "cs230",
   "language": "python",
   "name": "python3"
  },
  "language_info": {
   "codemirror_mode": {
    "name": "ipython",
    "version": 3
   },
   "file_extension": ".py",
   "mimetype": "text/x-python",
   "name": "python",
   "nbconvert_exporter": "python",
   "pygments_lexer": "ipython3",
   "version": "3.11.10"
  }
 },
 "nbformat": 4,
 "nbformat_minor": 2
}
