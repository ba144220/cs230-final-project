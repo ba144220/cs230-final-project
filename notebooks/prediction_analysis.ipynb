{
 "cells": [
  {
   "cell_type": "code",
   "execution_count": 91,
   "metadata": {},
   "outputs": [],
   "source": [
    "import pandas as pd"
   ]
  },
  {
   "cell_type": "code",
   "execution_count": 92,
   "metadata": {},
   "outputs": [],
   "source": [
    "# Load the results\n",
    "results = pd.read_csv(\"../outputs/self_generated_eval.csv\")"
   ]
  },
  {
   "cell_type": "code",
   "execution_count": 93,
   "metadata": {},
   "outputs": [],
   "source": [
    "# Check if the prediction is correct and and the result to df\n",
    "# Prediction and answer must be trimmed of spaces, lowercased, and removed of spaces    \n",
    "results[\"correct\"] = results[\"answer\"].str.strip().str.lower().str.replace(\" \", \"\") == results[\"predictions\"].str.strip().str.lower().str.replace(\" \", \"\")"
   ]
  },
  {
   "cell_type": "markdown",
   "metadata": {},
   "source": [
    "# Analyze the results"
   ]
  },
  {
   "cell_type": "markdown",
   "metadata": {},
   "source": [
    "## OverallAccuracy"
   ]
  },
  {
   "cell_type": "code",
   "execution_count": 94,
   "metadata": {},
   "outputs": [
    {
     "name": "stdout",
     "output_type": "stream",
     "text": [
      "Total number of predictions: 960\n",
      "Number of correct predictions: 284\n",
      "Number of incorrect predictions: 676\n",
      "Overall Accuracy: 29.58%\n"
     ]
    }
   ],
   "source": [
    "# Count the number of correct predictions\n",
    "num_correct = results[\"correct\"].sum()\n",
    "# Count the number of incorrect predictions\n",
    "num_incorrect = len(results) - num_correct\n",
    "# Calculate the accuracy\n",
    "accuracy = num_correct / len(results)\n",
    "print(f\"Total number of predictions: {len(results)}\")\n",
    "print(f\"Number of correct predictions: {num_correct}\")\n",
    "print(f\"Number of incorrect predictions: {num_incorrect}\")\n",
    "print(f\"Overall Accuracy: {accuracy:.2%}\")\n"
   ]
  },
  {
   "cell_type": "markdown",
   "metadata": {},
   "source": [
    "## Accuracy by the direction of the task"
   ]
  },
  {
   "cell_type": "code",
   "execution_count": 95,
   "metadata": {},
   "outputs": [
    {
     "name": "stdout",
     "output_type": "stream",
     "text": [
      "Accuracy for row direction: 41.67%\n",
      "Accuracy for column direction: 17.50%\n"
     ]
    }
   ],
   "source": [
    "for direction in [\"row\", \"column\"]:\n",
    "    print(f\"Accuracy for {direction} direction: {results[results['direction'] == direction]['correct'].mean():.2%}\")"
   ]
  },
  {
   "cell_type": "markdown",
   "metadata": {},
   "source": [
    "## Accuracy by the type of the task"
   ]
  },
  {
   "cell_type": "code",
   "execution_count": 96,
   "metadata": {},
   "outputs": [
    {
     "name": "stdout",
     "output_type": "stream",
     "text": [
      "Accuracy for arithmetic task: 38.96%\n",
      "Accuracy for list_items task: 20.21%\n"
     ]
    }
   ],
   "source": [
    "for task_type in [\"arithmetic\", \"list_items\"]:\n",
    "    print(f\"Accuracy for {task_type} task: {results[results['task'] == task_type]['correct'].mean():.2%}\")\n"
   ]
  },
  {
   "cell_type": "markdown",
   "metadata": {},
   "source": [
    "## Accuracy by the size of the table"
   ]
  },
  {
   "cell_type": "code",
   "execution_count": 97,
   "metadata": {},
   "outputs": [
    {
     "name": "stdout",
     "output_type": "stream",
     "text": [
      "Accuracy for 4x4 table: 48.44%\n",
      "Accuracy for 6x6 table: 32.81%\n",
      "Accuracy for 8x8 table: 32.29%\n",
      "Accuracy for 10x10 table: 16.67%\n",
      "Accuracy for 12x12 table: 17.71%\n"
     ]
    }
   ],
   "source": [
    "for table_size in [4, 6, 8, 10, 12]:\n",
    "    print(f\"Accuracy for {table_size}x{table_size} table: {results[results['size'] == table_size]['correct'].mean():.2%}\")"
   ]
  },
  {
   "cell_type": "markdown",
   "metadata": {},
   "source": [
    "## Accuracy by the task and direction"
   ]
  },
  {
   "cell_type": "code",
   "execution_count": 98,
   "metadata": {},
   "outputs": [
    {
     "name": "stdout",
     "output_type": "stream",
     "text": [
      "Accuracy for arithmetic row: 44.167%\n",
      "Accuracy for arithmetic column: 33.750%\n",
      "Accuracy for list_items row: 39.167%\n",
      "Accuracy for list_items column: 1.250%\n"
     ]
    }
   ],
   "source": [
    "for task in [\"arithmetic\", \"list_items\"]:\n",
    "    for direction in [\"row\", \"column\"]:\n",
    "        print(f\"Accuracy for {task} {direction}: {results[(results['task'] == task) & (results['direction'] == direction)]['correct'].mean():.3%}\")\n"
   ]
  },
  {
   "cell_type": "code",
   "execution_count": 99,
   "metadata": {},
   "outputs": [
    {
     "name": "stdout",
     "output_type": "stream",
     "text": [
      "Overall Accuracy: 29.583%\n"
     ]
    }
   ],
   "source": [
    "print(f\"Overall Accuracy: {accuracy:.3%}\")"
   ]
  },
  {
   "cell_type": "code",
   "execution_count": null,
   "metadata": {},
   "outputs": [],
   "source": []
  },
  {
   "cell_type": "code",
   "execution_count": null,
   "metadata": {},
   "outputs": [],
   "source": []
  }
 ],
 "metadata": {
  "kernelspec": {
   "display_name": "cs230",
   "language": "python",
   "name": "python3"
  },
  "language_info": {
   "codemirror_mode": {
    "name": "ipython",
    "version": 3
   },
   "file_extension": ".py",
   "mimetype": "text/x-python",
   "name": "python",
   "nbconvert_exporter": "python",
   "pygments_lexer": "ipython3",
   "version": "3.11.10"
  }
 },
 "nbformat": 4,
 "nbformat_minor": 2
}
