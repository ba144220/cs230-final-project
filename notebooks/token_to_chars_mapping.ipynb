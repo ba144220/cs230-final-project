{
 "cells": [
  {
   "cell_type": "code",
   "execution_count": 2,
   "metadata": {},
   "outputs": [],
   "source": [
    "from transformers import AutoTokenizer\n",
    "MODEL_NAME = \"meta-llama/Llama-3.2-1B-Instruct\"\n",
    "\n",
    "tokenizer = AutoTokenizer.from_pretrained(MODEL_NAME)"
   ]
  },
  {
   "cell_type": "code",
   "execution_count": 3,
   "metadata": {},
   "outputs": [
    {
     "name": "stdout",
     "output_type": "stream",
     "text": [
      "<|begin_of_text|><|start_header_id|>system<|end_header_id|>\n",
      "\n",
      "Cutting Knowledge Date: December 2023\n",
      "Today Date: 24 Nov 2024\n",
      "\n",
      "<|eot_id|><|start_header_id|>user<|end_header_id|>\n",
      "\n",
      "Hello, how are you?<|eot_id|><|start_header_id|>assistant<|end_header_id|>\n",
      "\n",
      "\n"
     ]
    }
   ],
   "source": [
    "message = [\n",
    "    {\"role\": \"user\", \"content\": \"Hello, how are you?\"}\n",
    "]\n",
    "\n",
    "message_string = tokenizer.apply_chat_template(message, tokenize=False, add_generation_prompt=True, return_tensors=\"pt\")\n",
    "print(message_string)"
   ]
  },
  {
   "cell_type": "code",
   "execution_count": 5,
   "metadata": {},
   "outputs": [
    {
     "name": "stdout",
     "output_type": "stream",
     "text": [
      "{'input_ids': tensor([[128000, 128006,   9125, 128007,    271,  38766,   1303,  33025,   2696,\n",
      "             25,   6790,    220,   2366,     18,    198,  15724,   2696,     25,\n",
      "            220,   1187,   4723,    220,   2366,     19,    271, 128009, 128006,\n",
      "            882, 128007,    271,   9906,     11,   1268,    527,    499,     30,\n",
      "         128009, 128006,  78191, 128007,    271]]), 'attention_mask': tensor([[1, 1, 1, 1, 1, 1, 1, 1, 1, 1, 1, 1, 1, 1, 1, 1, 1, 1, 1, 1, 1, 1, 1, 1,\n",
      "         1, 1, 1, 1, 1, 1, 1, 1, 1, 1, 1, 1, 1, 1, 1, 1, 1]])}\n",
      "[0, 1, 2, 3, 4, 5, 5, 6, 7, 8, 9, 10, 11, 12, 13, 14, 15, 16, 17, 18, 19, 20, 21, 22, 23, 24, 25, 26, 27, 28, 29, 30, 31, 32, 33, 34, 35, 36, 37, 38, 39]\n"
     ]
    }
   ],
   "source": [
    "inputs = tokenizer(message_string, return_tensors=\"pt\", add_special_tokens=False)\n",
    "print(inputs)\n",
    "\n",
    "print(inputs.word_ids())"
   ]
  },
  {
   "cell_type": "code",
   "execution_count": 15,
   "metadata": {},
   "outputs": [
    {
     "name": "stdout",
     "output_type": "stream",
     "text": [
      "<|begin_of_text|>    <|begin_of_text|>    0 17\n",
      "<|start_header_id|>  <|start_header_id|>  17 36\n",
      "system               system               36 42\n",
      "<|end_header_id|>    <|end_header_id|>    42 59\n",
      "ĊĊ                   \\n\\n                 59 61\n",
      "Cut                  Cut                  61 64\n",
      "ting                 ting                 64 68\n",
      "ĠKnowledge            Knowledge           68 78\n",
      "ĠDate                 Date                78 83\n",
      ":                    :                    83 84\n",
      "ĠDecember             December            84 93\n",
      "Ġ                                         93 94\n",
      "202                  202                  94 97\n",
      "3                    3                    97 98\n",
      "Ċ                    \\n                   98 99\n",
      "Today                Today                99 104\n",
      "ĠDate                 Date                104 109\n",
      ":                    :                    109 110\n",
      "Ġ                                         110 111\n",
      "24                   24                   111 113\n",
      "ĠNov                  Nov                 113 117\n",
      "Ġ                                         117 118\n",
      "202                  202                  118 121\n",
      "4                    4                    121 122\n",
      "ĊĊ                   \\n\\n                 122 124\n",
      "<|eot_id|>           <|eot_id|>           124 134\n",
      "<|start_header_id|>  <|start_header_id|>  134 153\n",
      "user                 user                 153 157\n",
      "<|end_header_id|>    <|end_header_id|>    157 174\n",
      "ĊĊ                   \\n\\n                 174 176\n",
      "Hello                Hello                176 181\n",
      ",                    ,                    181 182\n",
      "Ġhow                  how                 182 186\n",
      "Ġare                  are                 186 190\n",
      "Ġyou                  you                 190 194\n",
      "?                    ?                    194 195\n",
      "<|eot_id|>           <|eot_id|>           195 205\n",
      "<|start_header_id|>  <|start_header_id|>  205 224\n",
      "assistant            assistant            224 233\n",
      "<|end_header_id|>    <|end_header_id|>    233 250\n",
      "ĊĊ                   \\n\\n                 250 252\n"
     ]
    }
   ],
   "source": [
    "tokens = tokenizer.convert_ids_to_tokens(inputs.input_ids[0])\n",
    "for i in range(len(tokens)):\n",
    "    # Pad token[i] to 20 characters\n",
    "    token = tokens[i]\n",
    "    token = token + \" \" * (20 - len(token))\n",
    "    \n",
    "    # Range of the token in the original string\n",
    "    start, end = inputs.token_to_chars(i)\n",
    "    \n",
    "    # Print the original string and the range of the token\n",
    "    # Pad to 20 characters\n",
    "    # Show \\n as \"\\n\"\n",
    "    original_string = message_string[start:end]\n",
    "    original_string = original_string.replace(\"\\n\", \"\\\\n\")\n",
    "    original_string = original_string + \" \" * (20 - len(original_string))\n",
    "    print(token, original_string, start, end)\n",
    "\n"
   ]
  },
  {
   "cell_type": "code",
   "execution_count": null,
   "metadata": {},
   "outputs": [],
   "source": []
  }
 ],
 "metadata": {
  "kernelspec": {
   "display_name": "cs230",
   "language": "python",
   "name": "python3"
  },
  "language_info": {
   "codemirror_mode": {
    "name": "ipython",
    "version": 3
   },
   "file_extension": ".py",
   "mimetype": "text/x-python",
   "name": "python",
   "nbconvert_exporter": "python",
   "pygments_lexer": "ipython3",
   "version": "3.11.10"
  }
 },
 "nbformat": 4,
 "nbformat_minor": 2
}
